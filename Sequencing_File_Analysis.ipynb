{
 "cells": [
  {
   "cell_type": "markdown",
   "metadata": {
    "id": "CYumDZKBCLvh"
   },
   "source": [
    "<div dir=ltr align=center>In the name of God</div>\n",
    "<br>\n",
    "<font size=6><div dir=ltr align=center>\n",
    "<font size=5>\n",
    "Introduction to Bioinformatics\n",
    "<br>\n",
    "<font size=4>\n",
    "sharif university of technology, CE department\n",
    "</font>\n",
    "<br>\n",
    "<font size=3>\n",
    "Dr. Sharifi-Zarchi\n",
    "</font>\n",
    "<br>\n",
    "<br>\n",
    "<font size=6>\n",
    "Homework 2\n",
    "</font><br>\n",
    "<font size=4>"
   ]
  },
  {
   "cell_type": "markdown",
   "metadata": {
    "id": "sHhV53bpCO2D"
   },
   "source": [
    "**Student Name: Alireza Habibzadeh**\n",
    "\n",
    "**Student ID: 99109393**"
   ]
  },
  {
   "cell_type": "markdown",
   "metadata": {
    "id": "075lhnorFyOp"
   },
   "source": [
    "# Exploring SRR12506197: Understanding Sequencing File Formats and Extracting Information\n",
    "\n",
    "In this analysis, we are working with a sequencing data file identified as **SRR12506197**. Our objective is to gain a deeper understanding of the sequencing file format and explore the types of information we can extract from it. Through this file, we will analyze data quality, sequence orientation, and other key characteristics that are essential for bioinformatics workflows.\n"
   ]
  },
  {
   "cell_type": "markdown",
   "metadata": {
    "id": "LFnWHx_rGn9N"
   },
   "source": [
    "# Installing and Setting Up Required Tools\n",
    "\n",
    "To work with sequencing data, we need to install a few essential bioinformatics tools:\n",
    "\n",
    "1. **Entrez Direct**: A command-line tool from NCBI, which allows us to access NCBI databases, retrieve biological data, and perform various search operations.\n",
    "2. **SRA Toolkit**: A toolkit for accessing and managing sequencing data from the Sequence Read Archive (SRA), enabling us to download and manipulate sequencing files.\n",
    "3. **FastQC**: A quality control tool for high-throughput sequence data, which helps assess the quality of sequencing reads.\n",
    "\n",
    "In this code section:\n",
    "- We use shell commands to install these tools.\n",
    "- We set up an environment variable to add Entrez Direct to the system's PATH, making its commands accessible for further use.\n"
   ]
  },
  {
   "cell_type": "code",
   "metadata": {
    "id": "MK6qY1fwCEKX",
    "jupyter": {
     "is_executing": true
    }
   },
   "source": [
    "!yes | sh -c \"$(curl -fsSL https://ftp.ncbi.nlm.nih.gov/entrez/entrezdirect/install-edirect.sh)\"\n",
    "!sudo apt  -qq  update\n",
    "!sudo apt  -qq  install sra-toolkit\n",
    "!sudo apt  -qq  install fastqc"
   ],
   "outputs": [],
   "execution_count": null
  },
  {
   "cell_type": "code",
   "execution_count": null,
   "metadata": {
    "id": "4UtcZTeSChBV"
   },
   "outputs": [],
   "source": [
    "os.environ[\"PATH\"] += \":/root/edirect\""
   ]
  },
  {
   "cell_type": "markdown",
   "metadata": {
    "id": "TNSpMrWwG99u"
   },
   "source": [
    "# Importing Required Libraries\n",
    "import the libraries needed for your analysis:"
   ]
  },
  {
   "cell_type": "code",
   "execution_count": null,
   "metadata": {
    "id": "5EApkYBWCYMX"
   },
   "outputs": [],
   "source": [
    "#your code"
   ]
  },
  {
   "cell_type": "markdown",
   "metadata": {
    "id": "gO1qAn0wHaW7"
   },
   "source": [
    "# Searching the SRA Database and Fetching Run Information\n",
    "\n",
    "In this step, you’ll search the SRA (Sequence Read Archive) database for the sample **SRR12506197**. Using `esearch` and `efetch`, you will retrieve metadata about this run and save it as a CSV file named `runinfo.csv`. This file will provide basic information about the sequencing run, which will be used in the next steps."
   ]
  },
  {
   "cell_type": "code",
   "execution_count": null,
   "metadata": {
    "id": "AOTPHu3cCmUJ"
   },
   "outputs": [],
   "source": ""
  },
  {
   "cell_type": "markdown",
   "metadata": {
    "id": "0PYzSZUHH9Pp"
   },
   "source": [
    "# Loading and Exploring Run Information\n",
    "\n",
    "In this part, you’ll load the `runinfo.csv` file to explore what information it contains about the sequencing run. Follow these steps:\n",
    "\n",
    "1. **Load the CSV File**: Use `pd.read_csv()` to load `runinfo.csv` into a DataFrame, making it easier to view and manipulate the data.\n",
    "   \n",
    "2. **Check Available Columns**: Print the column names to see the different types of information available in the file. This helps identify useful metadata for the sample.\n",
    "\n",
    "3. **Select Key Fields**: Extract and print the **TaxID** and **ScientificName** columns. These fields provide the taxonomic identifier and the scientific name of the organism in the sample."
   ]
  },
  {
   "cell_type": "code",
   "execution_count": null,
   "metadata": {
    "id": "lcxGqlk4CpqR"
   },
   "outputs": [],
   "source": [
    "#your code"
   ]
  },
  {
   "cell_type": "markdown",
   "metadata": {
    "id": "3CDJHQCIIlba"
   },
   "source": [
    "# Understanding the Taxonomic ID (TaxID)\n",
    "## Question\n",
    "Research and briefly explain:\n",
    "- What is a Taxonomic ID (TaxID)?\n",
    "- How is it used in bioinformatics or scientific research?\n",
    "\n",
    "**Your Answer:**\n",
    "\n",
    "> *(Write your answer here)*\n",
    "\n"
   ]
  },
  {
   "cell_type": "markdown",
   "metadata": {
    "id": "9ZSteI8WJOTs"
   },
   "source": [
    "# Downloading the Sequencing Run Data\n",
    "\n",
    "In this part, you will download the sequencing data for **SRR12506197** using two commands:\n",
    "\n",
    "1. **prefetch**: This command retrieves the sequencing data from the SRA (Sequence Read Archive), a public repository for storing raw sequencing data.\n",
    "2. **fastq-dump**: After downloading, this command extracts the data into **FASTQ** files, a common format for storing raw sequence reads along with quality scores.\n",
    "\n",
    "## Questions\n",
    "To better understand the data formats, briefly answer the following:\n",
    "\n",
    "1. **What is the SRA format, and how is it used in bioinformatics?**\n",
    "   \n",
    "   > *(Write your answer here)*\n",
    "\n",
    "2. **What information does a FASTQ file contain, and why is it important in sequencing data analysis?**\n",
    "\n",
    "   > *(Write your answer here)*\n",
    "\n"
   ]
  },
  {
   "cell_type": "code",
   "execution_count": null,
   "metadata": {
    "id": "Ch-1mNmXCumR"
   },
   "outputs": [],
   "source": [
    "#your code"
   ]
  },
  {
   "cell_type": "markdown",
   "metadata": {
    "id": "B8cFGYR-Kq5z"
   },
   "source": [
    "# Creating a Smaller Sample of the FASTQ File for Testing\n",
    "\n",
    "In this step, we reduce the computational load by working with a smaller subset of the data. Here, we select the first 1000 reads from the original FASTQ file, creating a smaller file for testing purposes.\n",
    "\n",
    "## Question\n",
    "1. **What information is stored in a FASTQ file, and how is it organized?** Describe the structure of each read in terms of its four lines, including what each line represents.\n",
    "   \n",
    "2. **Given this structure, why do we need to select 4000 lines to get 1000 reads?**\n",
    "\n",
    "> *(Write your answer here)*\n",
    "\n"
   ]
  },
  {
   "cell_type": "code",
   "execution_count": null,
   "metadata": {
    "id": "WSbBiqxECw_c"
   },
   "outputs": [],
   "source": [
    "# Extract the first 1000 reads from the original FASTQ file\n",
    "!head -n 4000 SRR12506197_1.fastq > SRR12506197_1_sample.fastq"
   ]
  },
  {
   "cell_type": "markdown",
   "metadata": {
    "id": "uFeeCRjINJlr"
   },
   "source": [
    "# Running FastQC for Quality Control on the Sample\n",
    "\n",
    "In this step, you will run **FastQC** on the smaller sample FASTQ file to assess the quality of the sequencing data. Running FastQC on a smaller file saves time and provides insights into data quality.\n",
    "\n",
    "1. **Create a Folder for Output**: A folder named `fastqc_af` will be created to store the FastQC output.\n",
    "2. **Run FastQC**: FastQC will analyze the sample FASTQ file and produce an HTML report summarizing the quality metrics.\n",
    "\n",
    "## Instructions\n",
    "- After running this code, you will find an HTML report in the `fastqc_af` folder. When you submit your work, please include this HTML file alongside your `.ipynb` notebook.\n",
    "\n",
    "## Question\n",
    "Open the HTML report generated by FastQC and briefly describe what you observe. You don’t need to go into full detail—just describe a few key sections or any notable observations you see in the file.\n",
    "\n",
    "> *(Write your answer here)*"
   ]
  },
  {
   "cell_type": "code",
   "execution_count": null,
   "metadata": {
    "id": "wdo1thmXCzEQ"
   },
   "outputs": [],
   "source": [
    "#your code"
   ]
  },
  {
   "cell_type": "markdown",
   "metadata": {
    "id": "oK77xet1PyJm"
   },
   "source": [
    "# Calculating and Plotting Normalized 2-mer Frequencies\n",
    "\n",
    "In this part, you will create two functions to calculate the normalized frequency of each possible 2-mer (two-nucleotide sequence) in a DNA sequence and then plot these frequencies.\n",
    "\n",
    "1. **2-mer Frequency Calculator**:\n",
    "   - First, write a function that calculates the frequency of each of the 16 possible 2-mers (e.g., \"AA,\" \"AC,\" \"AG,\" etc.) in a given sequence.\n",
    "   - Normalize these counts to get the relative frequency of each 2-mer. Normalization allows you to see each 2-mer's proportion in the sequence.\n",
    "\n",
    "2. **2-mer Frequency Plotter**:\n",
    "   - Next, write a function to plot the normalized frequencies of the 2-mers.\n",
    "   - The x-axis should represent the 16 possible 2-mers, and the y-axis should show their respective normalized frequencies.\n",
    "\n",
    "## Task\n",
    "1. Create a function to calculate the normalized frequencies of the 2-mers.\n",
    "2. Create a function to plot these normalized frequencies.\n",
    "\n"
   ]
  },
  {
   "cell_type": "code",
   "execution_count": null,
   "metadata": {
    "id": "mw6shVoLOvLC"
   },
   "outputs": [],
   "source": [
    "#your code"
   ]
  }
 ],
 "metadata": {
  "colab": {
   "provenance": []
  },
  "kernelspec": {
   "display_name": "Python 3 (ipykernel)",
   "language": "python",
   "name": "python3"
  },
  "language_info": {
   "codemirror_mode": {
    "name": "ipython",
    "version": 3
   },
   "file_extension": ".py",
   "mimetype": "text/x-python",
   "name": "python",
   "nbconvert_exporter": "python",
   "pygments_lexer": "ipython3",
   "version": "3.12.7"
  }
 },
 "nbformat": 4,
 "nbformat_minor": 4
}
