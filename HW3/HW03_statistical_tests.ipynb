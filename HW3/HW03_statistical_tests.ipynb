{
 "cells": [
  {
   "cell_type": "markdown",
   "metadata": {
    "id": "1_QC6GQPdxop"
   },
   "source": [
    "Introduction to Bioinformatics\n",
    "\n",
    "HomeWork 3\n",
    "\n",
    "Statistical tests"
   ]
  },
  {
   "cell_type": "markdown",
   "metadata": {
    "id": "i18kvgkQdxor"
   },
   "source": [
    "name: \"Mehrshad Barzamini\"\n",
    "\n",
    "student id: \"99170361\"\n",
    "\n"
   ]
  },
  {
   "cell_type": "code",
   "execution_count": 1,
   "metadata": {
    "colab": {
     "base_uri": "https://localhost:8080/"
    },
    "id": "4G_TE5vCfJ_6",
    "outputId": "a51d85da-349b-43bf-d15e-c18231776aa1"
   },
   "outputs": [
    {
     "name": "stdout",
     "output_type": "stream",
     "text": [
      "Mounted at /content/drive\n",
      "File extracted successfully!\n"
     ]
    }
   ],
   "source": [
    "# Mount Google Drive\n",
    "from google.colab import drive\n",
    "drive.mount('/content/drive')\n",
    "\n",
    "# Navigate to the folder containing the dataset\n",
    "import os\n",
    "dataset_path = '/content/drive/MyDrive/Education/Bioinformatics/Introduction_To_Bioinformatics_Fall_2024/HWs/HW3/Practical/GSE10072_series_matrix.txt.gz'\n",
    "\n",
    "# Unzip the file\n",
    "import gzip\n",
    "import shutil\n",
    "\n",
    "# Define output file path\n",
    "output_file = '/content/GSE10072_series_matrix.txt'\n",
    "\n",
    "# Unzip the .gz file\n",
    "with gzip.open(dataset_path, 'rb') as f_in:\n",
    "    with open(output_file, 'wb') as f_out:\n",
    "        shutil.copyfileobj(f_in, f_out)\n",
    "\n",
    "print(\"File extracted successfully!\")\n"
   ]
  },
  {
   "cell_type": "markdown",
   "metadata": {
    "id": "JboqZPntdxos"
   },
   "source": [
    "# Gene Expression Analysis Using Statistical Tests\n",
    "\n",
    "This notebook guides you through analyzing a gene expression dataset to identify significant differences between two groups: **Lung Tumor** and **Normal Lung**. It includes the following key steps:\n",
    "\n",
    "- **Loading the dataset**: Familiarize yourself with the data structure.\n",
    "- **Descriptive statistics**: Calculate basic measures such as means and standard deviations.\n",
    "- **Hypothesis testing**: Use statistical tests (e.g., t-tests) to identify differences between the groups.\n",
    "- **Multiple testing correction**: Adjust p-values to control the False Discovery Rate.\n",
    "- **Filtering significant genes**: Identify and prioritize statistically significant genes.\n",
    "\n",
    "Some sections include **###TO DO tasks**, where you'll complete the code or analysis to achieve specific results.\n"
   ]
  },
  {
   "cell_type": "markdown",
   "metadata": {
    "id": "5J35I2wndxot"
   },
   "source": [
    "## Step 1: Load the Dataset\n",
    "\n",
    "The dataset contains gene expression levels for samples classified as **Lung Tumor** and **Normal Lung**. Each row corresponds to a specific gene, and columns represent expression levels across samples.\n",
    "\n",
    "In this step, we load the dataset and display the first few rows to understand its structure."
   ]
  },
  {
   "cell_type": "code",
   "execution_count": 2,
   "metadata": {
    "colab": {
     "base_uri": "https://localhost:8080/"
    },
    "id": "TEQDCnDAdxou",
    "outputId": "314a06f9-9356-4eb4-f5a3-f129923977f9"
   },
   "outputs": [
    {
     "name": "stdout",
     "output_type": "stream",
     "text": [
      "Dataset Overview:\n",
      "(22283, 107)\n",
      "           GSM254625  GSM254626  GSM254627  GSM254628  GSM254629  GSM254630  \\\n",
      "ID_REF                                                                        \n",
      "1007_s_at  10.927084  10.416978  10.628538  10.151180  10.988512  10.778205   \n",
      "1053_at     6.895217   6.924856   7.550245   6.699557   6.826031   6.718372   \n",
      "117_at      8.110190   7.760228   7.974676   7.712676   7.775592   7.777087   \n",
      "121_at      9.451286   9.520943   9.807597   9.522087   9.855061   9.861055   \n",
      "1255_g_at   4.814477   4.718640   4.905163   4.818076   4.823958   4.848313   \n",
      "\n",
      "           GSM254631  GSM254632  GSM254633  GSM254634  ...  GSM254722  \\\n",
      "ID_REF                                                 ...              \n",
      "1007_s_at  10.568814  10.479425  10.548843  10.465005  ...  10.727493   \n",
      "1053_at     6.739765   6.724615   7.102475   6.627922  ...   6.856575   \n",
      "117_at      7.893210   8.058398   8.005438   7.961476  ...   7.741922   \n",
      "121_at     10.126183   9.878970  10.110318  10.411478  ...  10.089149   \n",
      "1255_g_at   5.125956   5.037979   4.889936   5.177818  ...   5.048391   \n",
      "\n",
      "           GSM254723  GSM254724  GSM254725  GSM254726  GSM254727  GSM254728  \\\n",
      "ID_REF                                                                        \n",
      "1007_s_at  10.740353  10.527962  10.193615  10.768815  10.467693  10.902778   \n",
      "1053_at     6.737879   6.959032   7.008578   6.740444   6.795750   6.838162   \n",
      "117_at      7.805107   8.093078   8.144760   8.159483   7.855457   8.010428   \n",
      "121_at     10.007059   9.832610  10.107004   9.790645   9.645239   9.871851   \n",
      "1255_g_at   4.758050   4.900470   4.948760   4.609322   4.759571   4.788774   \n",
      "\n",
      "           GSM254729  GSM254730  GSM254731  \n",
      "ID_REF                                      \n",
      "1007_s_at  10.869402  10.292285  10.407218  \n",
      "1053_at     6.628363   6.794050   6.358410  \n",
      "117_at      7.889019   8.163266   7.973844  \n",
      "121_at      9.867988   9.824801   9.850144  \n",
      "1255_g_at   4.967626   4.817474   5.128892  \n",
      "\n",
      "[5 rows x 107 columns]\n"
     ]
    }
   ],
   "source": [
    "## Step 1: Load the Dataset\n",
    "\n",
    "# Import necessary libraries\n",
    "import pandas as pd\n",
    "\n",
    "# Define the path to the extracted dataset\n",
    "file_path = '/content/GSE10072_series_matrix.txt'\n",
    "\n",
    "# Load the dataset, skipping initial comment lines starting with '!'\n",
    "data = pd.read_csv(file_path, sep='\\t', comment='!', index_col=0)\n",
    "\n",
    "# Display the first 5 rows of the dataset\n",
    "print(\"Dataset Overview:\")\n",
    "print(data.shape)  # Print dataset dimensions\n",
    "print(data.head())  # Display first 5 rows\n"
   ]
  },
  {
   "cell_type": "markdown",
   "metadata": {
    "id": "O8NReFdAdxow"
   },
   "source": [
    "## Step 2: Assign Sample Groups\n",
    "\n",
    "The samples are divided into two groups:\n",
    "- **Normal Lung**: Includes expression levels for normal lung tissue.\n",
    "- **Lung Tumor**: Includes expression levels for lung tumor tissue.\n",
    "\n",
    "The corresponding sample names are assigned to these groups based on metadata from the dataset.\n"
   ]
  },
  {
   "cell_type": "code",
   "execution_count": 3,
   "metadata": {
    "id": "YRBrctLEdxow"
   },
   "outputs": [],
   "source": [
    "## DO NOT Change this cell\n",
    "\n",
    "normal_lung = [\n",
    "    \"GSM254626\", \"GSM254628\", \"GSM254632\", \"GSM254634\", \"GSM254635\",\n",
    "    \"GSM254638\", \"GSM254640\", \"GSM254643\", \"GSM254644\", \"GSM254646\",\n",
    "    \"GSM254649\", \"GSM254651\", \"GSM254653\", \"GSM254655\", \"GSM254658\",\n",
    "    \"GSM254660\", \"GSM254662\", \"GSM254665\", \"GSM254667\", \"GSM254669\",\n",
    "    \"GSM254671\", \"GSM254673\", \"GSM254676\", \"GSM254677\", \"GSM254679\",\n",
    "    \"GSM254681\", \"GSM254683\", \"GSM254685\", \"GSM254689\", \"GSM254691\",\n",
    "    \"GSM254693\", \"GSM254695\", \"GSM254699\", \"GSM254702\", \"GSM254703\",\n",
    "    \"GSM254706\", \"GSM254708\", \"GSM254710\", \"GSM254711\", \"GSM254712\",\n",
    "    \"GSM254713\", \"GSM254715\", \"GSM254717\", \"GSM254719\", \"GSM254723\",\n",
    "    \"GSM254725\", \"GSM254727\", \"GSM254730\", \"GSM254731\"\n",
    "]\n",
    "\n",
    "lung_tumor = [\n",
    "    \"GSM254625\", \"GSM254627\", \"GSM254629\", \"GSM254630\", \"GSM254631\",\n",
    "    \"GSM254633\", \"GSM254636\", \"GSM254637\", \"GSM254639\", \"GSM254641\",\n",
    "    \"GSM254642\", \"GSM254645\", \"GSM254647\", \"GSM254648\", \"GSM254650\",\n",
    "    \"GSM254652\", \"GSM254654\", \"GSM254656\", \"GSM254657\", \"GSM254659\",\n",
    "    \"GSM254661\", \"GSM254663\", \"GSM254664\", \"GSM254666\", \"GSM254668\",\n",
    "    \"GSM254670\", \"GSM254672\", \"GSM254674\", \"GSM254675\", \"GSM254678\",\n",
    "    \"GSM254680\", \"GSM254682\", \"GSM254684\", \"GSM254686\", \"GSM254687\",\n",
    "    \"GSM254688\", \"GSM254690\", \"GSM254692\", \"GSM254694\", \"GSM254696\",\n",
    "    \"GSM254697\", \"GSM254698\", \"GSM254700\", \"GSM254701\", \"GSM254704\",\n",
    "    \"GSM254705\", \"GSM254707\", \"GSM254709\", \"GSM254714\", \"GSM254716\",\n",
    "    \"GSM254718\", \"GSM254720\", \"GSM254721\", \"GSM254722\", \"GSM254724\",\n",
    "    \"GSM254726\", \"GSM254728\", \"GSM254729\"\n",
    "]"
   ]
  },
  {
   "cell_type": "markdown",
   "metadata": {
    "id": "IgJwRGisdxox"
   },
   "source": [
    "## Step 3: Calculate Descriptive Statistics\n",
    "\n",
    "For each gene, we calculate:\n",
    "- **Mean** expression levels for the two groups.\n",
    "- **Standard Deviation (Std)** to understand the variability within each group.\n",
    "\n",
    "These statistics provide an initial overview of the data distribution.\n"
   ]
  },
  {
   "cell_type": "code",
   "execution_count": 4,
   "metadata": {
    "colab": {
     "base_uri": "https://localhost:8080/"
    },
    "id": "hw020iVIdxox",
    "outputId": "c7781dce-ff4f-459a-fda1-ce851ef9ca03"
   },
   "outputs": [
    {
     "name": "stdout",
     "output_type": "stream",
     "text": [
      "(22283, 2)\n",
      "           Mean_Normal_Lung  Mean_Lung_Tumor\n",
      "ID_REF                                      \n",
      "1007_s_at         10.309772        10.772500\n",
      "1053_at            6.736384         6.988408\n",
      "117_at             8.007275         8.016987\n",
      "121_at             9.862801         9.878110\n",
      "1255_g_at          4.857075         4.923281\n"
     ]
    }
   ],
   "source": [
    "# Calculate means for each group\n",
    "mean_normal = data[normal_lung].mean(axis=1)\n",
    "mean_tumor = data[lung_tumor].mean(axis=1)\n",
    "\n",
    "# Combine into a DataFrame\n",
    "mean_df = pd.DataFrame({\n",
    "    'Mean_Normal_Lung': mean_normal,\n",
    "    'Mean_Lung_Tumor': mean_tumor\n",
    "})\n",
    "\n",
    "# Display the updated DataFrame (mean columns)\n",
    "print(mean_df.shape)\n",
    "print(mean_df.head())"
   ]
  },
  {
   "cell_type": "code",
   "execution_count": 5,
   "metadata": {
    "colab": {
     "base_uri": "https://localhost:8080/"
    },
    "id": "San6TOX3dxoy",
    "outputId": "bbbd3ab6-c824-4171-b948-868624c6999a"
   },
   "outputs": [
    {
     "name": "stdout",
     "output_type": "stream",
     "text": [
      "(22283, 2)\n",
      "           Std_Normal_Lung  Std_Lung_Tumor\n",
      "ID_REF                                    \n",
      "1007_s_at         0.231752        0.364252\n",
      "1053_at           0.137845        0.270940\n",
      "117_at            0.463988        0.275375\n",
      "121_at            0.171649        0.170197\n",
      "1255_g_at         0.125765        0.138166\n"
     ]
    }
   ],
   "source": [
    "# Calculate standard deviations for each group\n",
    "std_normal = data[normal_lung].std(axis=1)\n",
    "std_tumor = data[lung_tumor].std(axis=1)\n",
    "\n",
    "# Combine into a DataFrame\n",
    "std_df = pd.DataFrame({\n",
    "    'Std_Normal_Lung': std_normal,\n",
    "    'Std_Lung_Tumor': std_tumor\n",
    "})\n",
    "\n",
    "# Display the updated DataFrame (std columns)\n",
    "print(std_df.shape)\n",
    "print(std_df.head())"
   ]
  },
  {
   "cell_type": "code",
   "execution_count": 6,
   "metadata": {
    "colab": {
     "base_uri": "https://localhost:8080/"
    },
    "id": "pay9GQN-dxoz",
    "outputId": "5c3f71ca-0dbb-4efd-d724-28c363248f8a"
   },
   "outputs": [
    {
     "name": "stdout",
     "output_type": "stream",
     "text": [
      "(22283, 4)\n",
      "           Mean_Normal_Lung  Mean_Lung_Tumor  Std_Normal_Lung  Std_Lung_Tumor\n",
      "ID_REF                                                                       \n",
      "1007_s_at         10.309772        10.772500         0.231752        0.364252\n",
      "1053_at            6.736384         6.988408         0.137845        0.270940\n",
      "117_at             8.007275         8.016987         0.463988        0.275375\n",
      "121_at             9.862801         9.878110         0.171649        0.170197\n",
      "1255_g_at          4.857075         4.923281         0.125765        0.138166\n"
     ]
    }
   ],
   "source": [
    "# Merge the mean and std DataFrames\n",
    "result_df = pd.concat([mean_df, std_df], axis=1)\n",
    "\n",
    "# Display the updated DataFrame (mean columns and std columns)\n",
    "print(result_df.shape)\n",
    "print(result_df.head())"
   ]
  },
  {
   "cell_type": "markdown",
   "metadata": {
    "id": "AubYE-xgdxoz"
   },
   "source": [
    "## Step 4: Calculate Log2 Fold Change (Log2FC)\n",
    "\n",
    "Log2 Fold Change $( \\log_2 \\text{FC} )$ measures the relative difference in expression levels between the **Lung Tumor** and **Normal Lung** groups for each gene. It is calculated as:\n",
    "$$\n",
    "\\text{Log2FC} = \\log_2\\left(\\frac{\\text{Mean Lung Tumor}}{\\text{Mean Normal Lung}}\\right)\n",
    "$$\n",
    "\n",
    "Genes with a large positive or negative Log2FC indicate stronger differences in expression levels between the two groups.\n"
   ]
  },
  {
   "cell_type": "code",
   "execution_count": 24,
   "metadata": {
    "colab": {
     "base_uri": "https://localhost:8080/"
    },
    "id": "mxZOxvr5dxoz",
    "outputId": "b580bc58-d519-472a-c1a6-2ccacdad6ac3"
   },
   "outputs": [
    {
     "name": "stdout",
     "output_type": "stream",
     "text": [
      "(22283, 3)\n",
      "           Mean_Lung_Tumor  Mean_Normal_Lung    Log2FC\n",
      "ID_REF                                                \n",
      "1007_s_at        10.772500         10.309772  0.063341\n",
      "1053_at           6.988408          6.736384  0.052990\n",
      "117_at            8.016987          8.007275  0.001749\n",
      "121_at            9.878110          9.862801  0.002238\n",
      "1255_g_at         4.923281          4.857075  0.019533\n"
     ]
    }
   ],
   "source": [
    "import numpy as np\n",
    "\n",
    "# Ensure the columns are in the correct order\n",
    "mean_df = mean_df[['Mean_Lung_Tumor', 'Mean_Normal_Lung']]  # Explicitly reorder\n",
    "\n",
    "# Compute Log2 Fold Change (Log2FC) for each gene\n",
    "log2fc = np.log2(mean_df['Mean_Lung_Tumor'] / mean_df['Mean_Normal_Lung'])\n",
    "\n",
    "# Add Log2FC to the DataFrame\n",
    "log2fc_df = mean_df.copy()\n",
    "log2fc_df['Log2FC'] = log2fc\n",
    "\n",
    "# Display the updated DataFrame with Log2FC (mean columns and Log2FC columns)\n",
    "print(log2fc_df.shape)\n",
    "print(log2fc_df.head())"
   ]
  },
  {
   "cell_type": "code",
   "execution_count": 25,
   "metadata": {
    "colab": {
     "base_uri": "https://localhost:8080/"
    },
    "id": "jxR3aPLedxo0",
    "outputId": "a2b3164c-4b46-450e-f3a1-a754b0aa1477"
   },
   "outputs": [
    {
     "name": "stdout",
     "output_type": "stream",
     "text": [
      "Number of genes with |Log2FC| > 0.25: 349\n",
      "             Mean_Lung_Tumor  Mean_Normal_Lung    Log2FC\n",
      "ID_REF                                                  \n",
      "200878_at          10.997457         13.084882 -0.250731\n",
      "201013_s_at        10.029449          8.360345  0.262608\n",
      "201014_s_at         8.654871          6.880522  0.330994\n",
      "201291_s_at         7.792620          5.370544  0.537040\n",
      "201292_at           8.510264          6.054301  0.491243\n"
     ]
    }
   ],
   "source": [
    "### Apply new threshold for Log2FC\n",
    "threshold = 0.25  # New threshold value\n",
    "\n",
    "# Filter genes based on the new threshold\n",
    "filtered_df = log2fc_df[(log2fc_df['Log2FC'] > threshold) | (log2fc_df['Log2FC'] < -threshold)]\n",
    "\n",
    "# Display the number of filtered genes\n",
    "print(f\"Number of genes with |Log2FC| > {threshold}: {filtered_df.shape[0]}\")\n",
    "\n",
    "# Display the filtered genes\n",
    "print(filtered_df.head())"
   ]
  },
  {
   "cell_type": "code",
   "execution_count": 26,
   "metadata": {
    "colab": {
     "base_uri": "https://localhost:8080/"
    },
    "id": "9oG5eFlPdxo0",
    "outputId": "020add85-e1b0-4ee0-d47f-2a4c363071dd"
   },
   "outputs": [
    {
     "name": "stdout",
     "output_type": "stream",
     "text": [
      "(349, 3)\n",
      "             Mean_Lung_Tumor  Mean_Normal_Lung    Log2FC\n",
      "ID_REF                                                  \n",
      "209875_s_at        11.697897          7.333482  0.673679\n",
      "204475_at           7.852579          4.990543  0.653970\n",
      "37892_at            8.718949          5.657426  0.624008\n",
      "214774_x_at         7.281510          4.843550  0.588173\n",
      "218468_s_at         7.513001          5.071543  0.566964\n",
      "201291_s_at         7.792620          5.370544  0.537040\n",
      "218469_at           8.418868          5.870505  0.520142\n",
      "217428_s_at         8.325766          5.862291  0.506118\n",
      "206239_s_at         9.403921          6.645521  0.500880\n",
      "216623_x_at         7.961952          5.650636  0.494709\n",
      "             Mean_Lung_Tumor  Mean_Normal_Lung    Log2FC\n",
      "ID_REF                                                  \n",
      "217046_s_at         6.467130          9.504819 -0.555534\n",
      "209904_at           5.668670          8.566648 -0.595720\n",
      "219230_at           6.868648         10.438961 -0.603880\n",
      "210096_at           7.032193         10.741989 -0.611215\n",
      "203980_at           7.136529         10.975070 -0.620936\n",
      "209613_s_at         6.788548         10.467015 -0.624675\n",
      "215454_x_at         6.956141         10.945963 -0.654040\n",
      "204273_at           5.386773          8.548033 -0.666171\n",
      "204712_at           6.253551          9.940261 -0.668608\n",
      "210081_at           7.459343         11.876812 -0.671027\n"
     ]
    }
   ],
   "source": [
    "# Sort the filtered genes by Log2FC in descending order\n",
    "sorted_df = filtered_df.sort_values(by='Log2FC', ascending=False)\n",
    "\n",
    "# Display the sorted genes\n",
    "print(sorted_df.shape)  # Display the dimensions of the sorted DataFrame\n",
    "print(sorted_df.head(10))  # Display the top 10 genes with the highest Log2FC\n",
    "print(sorted_df.tail(10))  # Display the bottom 10 genes with the lowest Log2FC"
   ]
  },
  {
   "cell_type": "markdown",
   "metadata": {
    "id": "-nHOKucZdxo0"
   },
   "source": [
    "## Step 5: Perform Hypothesis Testing\n",
    "\n",
    "We perform an independent two-sample t-test for each gene to compare expression levels between the two groups:\n",
    "- Null Hypothesis (\\(H_0\\)): There is no significant difference in mean expression levels between the groups.\n",
    "- Alternative Hypothesis (\\(H_a\\)): There is a significant difference in mean expression levels between the groups.\n",
    "\n",
    "The p-values resulting from these tests indicate the statistical significance of the differences.\n"
   ]
  },
  {
   "cell_type": "code",
   "execution_count": 27,
   "metadata": {
    "colab": {
     "base_uri": "https://localhost:8080/"
    },
    "id": "EVZt2rpqdxo1",
    "outputId": "7203e264-176e-42c7-91d9-719e8fd78693"
   },
   "outputs": [
    {
     "name": "stdout",
     "output_type": "stream",
     "text": [
      "(22283, 4)\n",
      "           Mean_Lung_Tumor  Mean_Normal_Lung    Log2FC       P_Value\n",
      "ID_REF                                                              \n",
      "1007_s_at        10.772500         10.309772  0.063341  3.167943e-12\n",
      "1053_at           6.988408          6.736384  0.052990  1.825086e-08\n",
      "117_at            8.016987          8.007275  0.001749  8.979953e-01\n",
      "121_at            9.878110          9.862801  0.002238  6.454791e-01\n",
      "1255_g_at         4.923281          4.857075  0.019533  1.087906e-02\n"
     ]
    }
   ],
   "source": [
    "from scipy.stats import ttest_ind\n",
    "\n",
    "# Initialize an empty list to store p-values\n",
    "p_values = []\n",
    "\n",
    "# Perform t-test for each gene\n",
    "for gene in data.index:\n",
    "    # Extract expression levels for the two groups\n",
    "    group1 = data.loc[gene, normal_lung]  # Normal Lung group\n",
    "    group2 = data.loc[gene, lung_tumor]  # Lung Tumor group\n",
    "\n",
    "    # Perform independent two-sample t-test\n",
    "    t_stat, p_val = ttest_ind(group1, group2, equal_var=False)  # Welch's t-test\n",
    "    p_values.append(p_val)\n",
    "\n",
    "# Add p-values as a new column in the DataFrame\n",
    "log2fc_df['P_Value'] = p_values\n",
    "\n",
    "# Display the updated DataFrame with P-Value (mean columns and P-value column)\n",
    "print(log2fc_df.shape)\n",
    "print(log2fc_df.head())\n"
   ]
  },
  {
   "cell_type": "markdown",
   "metadata": {
    "id": "ph6QtV8vdxo1"
   },
   "source": [
    "## Step 6: Adjust P-Values for Multiple Testing\n",
    "\n",
    "To account for multiple comparisons, we apply the Benjamini-Hochberg procedure to control the false discovery rate (FDR). This ensures that the reported significant genes are less likely to include false positives.\n",
    "\n",
    "Adjusted p-values (\\(q\\)-values) are calculated for each gene.\n"
   ]
  },
  {
   "cell_type": "code",
   "execution_count": 28,
   "metadata": {
    "colab": {
     "base_uri": "https://localhost:8080/"
    },
    "id": "5Ewp5lfidxo1",
    "outputId": "66655db8-c69f-476b-937f-51e4593f347e"
   },
   "outputs": [
    {
     "name": "stdout",
     "output_type": "stream",
     "text": [
      "(22283, 5)\n",
      "           Mean_Lung_Tumor  Mean_Normal_Lung    Log2FC       P_Value  \\\n",
      "ID_REF                                                                 \n",
      "1007_s_at        10.772500         10.309772  0.063341  3.167943e-12   \n",
      "1053_at           6.988408          6.736384  0.052990  1.825086e-08   \n",
      "117_at            8.016987          8.007275  0.001749  8.979953e-01   \n",
      "121_at            9.878110          9.862801  0.002238  6.454791e-01   \n",
      "1255_g_at         4.923281          4.857075  0.019533  1.087906e-02   \n",
      "\n",
      "            Adj_P_Value  \n",
      "ID_REF                   \n",
      "1007_s_at  4.047664e-11  \n",
      "1053_at    1.199304e-07  \n",
      "117_at     9.325485e-01  \n",
      "121_at     7.426276e-01  \n",
      "1255_g_at  2.414763e-02  \n"
     ]
    }
   ],
   "source": [
    "from statsmodels.stats.multitest import multipletests\n",
    "\n",
    "# Adjust p-values using Benjamini-Hochberg correction\n",
    "p_adjusted = multipletests(log2fc_df['P_Value'], method='fdr_bh')[1]\n",
    "\n",
    "# Add adjusted p-values as a new column in the DataFrame\n",
    "log2fc_df['Adj_P_Value'] = p_adjusted\n",
    "\n",
    "# Display the updated DataFrame with adjusted p-values\n",
    "print(log2fc_df.shape)\n",
    "print(log2fc_df.head())\n"
   ]
  },
  {
   "cell_type": "markdown",
   "metadata": {
    "id": "NBGXXRGZdxo1"
   },
   "source": [
    "## Step 7: Filter and Sort Significant Genes\n",
    "\n",
    "Genes with adjusted p-values (\\(q\\)-values) below a significance threshold (e.g., 0.05) are considered statistically significant.\n",
    "These genes are sorted in ascending order of adjusted p-values to prioritize the most significant results.\n"
   ]
  },
  {
   "cell_type": "code",
   "execution_count": 30,
   "metadata": {
    "colab": {
     "base_uri": "https://localhost:8080/"
    },
    "id": "p2X-opasdxo1",
    "outputId": "b87e674f-5972-408b-ca28-4bfeae69e103"
   },
   "outputs": [
    {
     "name": "stdout",
     "output_type": "stream",
     "text": [
      "Number of significant genes: 349\n",
      "             Mean_Lung_Tumor  Mean_Normal_Lung    Log2FC       P_Value  \\\n",
      "ID_REF                                                                   \n",
      "209074_s_at         7.451084         10.822883 -0.538563  6.641899e-44   \n",
      "204396_s_at         7.583586          9.971658 -0.394953  2.009124e-41   \n",
      "204677_at           6.804586          9.424160 -0.469857  1.317136e-40   \n",
      "210081_at           7.459343         11.876812 -0.671027  4.769095e-38   \n",
      "202112_at           9.567466         11.825939 -0.305746  1.464679e-37   \n",
      "209875_s_at        11.697897          7.333482  0.673679  1.782532e-37   \n",
      "203980_at           7.136529         10.975070 -0.620936  2.254575e-37   \n",
      "204719_at           6.484080          9.443989 -0.542495  2.925072e-37   \n",
      "205200_at           7.338750         10.750604 -0.550811  3.251662e-37   \n",
      "209555_s_at         7.154256          9.571239 -0.419904  3.311714e-37   \n",
      "\n",
      "              Adj_P_Value  \n",
      "ID_REF                     \n",
      "209074_s_at  1.480014e-39  \n",
      "204396_s_at  2.238466e-37  \n",
      "204677_at    9.783245e-37  \n",
      "210081_at    1.518139e-34  \n",
      "202112_at    3.972016e-34  \n",
      "209875_s_at  3.972016e-34  \n",
      "203980_at    4.567154e-34  \n",
      "204719_at    5.271066e-34  \n",
      "205200_at    5.271066e-34  \n",
      "209555_s_at  5.271066e-34  \n"
     ]
    }
   ],
   "source": [
    "# Define thresholds\n",
    "adj_pval_threshold = 0.05  # Adjusted P-Value threshold\n",
    "log2fc_threshold = 0.25     # Log2FC threshold\n",
    "\n",
    "# Filter significant genes based on criteria\n",
    "significant_genes = log2fc_df[\n",
    "    (log2fc_df['Adj_P_Value'] < adj_pval_threshold) &  # Adjusted P-value < 0.05\n",
    "    (abs(log2fc_df['Log2FC']) > log2fc_threshold)     # |Log2FC| > 1\n",
    "]\n",
    "\n",
    "# Sort significant genes by adjusted p-value in ascending order\n",
    "sorted_significant_genes = significant_genes.sort_values(by='Adj_P_Value', ascending=True)\n",
    "\n",
    "# Display the top 10 significant genes\n",
    "print(f\"Number of significant genes: {sorted_significant_genes.shape[0]}\")\n",
    "print(sorted_significant_genes.head(10))  # Display top 10 genes\n"
   ]
  }
 ],
 "metadata": {
  "colab": {
   "provenance": []
  },
  "kernelspec": {
   "display_name": "Python 3 (ipykernel)",
   "language": "python",
   "name": "python3"
  },
  "language_info": {
   "codemirror_mode": {
    "name": "ipython",
    "version": 3
   },
   "file_extension": ".py",
   "mimetype": "text/x-python",
   "name": "python",
   "nbconvert_exporter": "python",
   "pygments_lexer": "ipython3",
   "version": "3.12.8"
  }
 },
 "nbformat": 4,
 "nbformat_minor": 4
}
